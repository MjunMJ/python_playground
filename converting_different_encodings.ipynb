{
  "nbformat": 4,
  "nbformat_minor": 0,
  "metadata": {
    "colab": {
      "provenance": [],
      "authorship_tag": "ABX9TyNBtjjHvXXAy/hfqehIvj7c",
      "include_colab_link": true
    },
    "kernelspec": {
      "name": "python3",
      "display_name": "Python 3"
    },
    "language_info": {
      "name": "python"
    }
  },
  "cells": [
    {
      "cell_type": "markdown",
      "metadata": {
        "id": "view-in-github",
        "colab_type": "text"
      },
      "source": [
        "<a href=\"https://colab.research.google.com/github/MjunMJ/python_playground/blob/main/converting_different_encodings.ipynb\" target=\"_parent\"><img src=\"https://colab.research.google.com/assets/colab-badge.svg\" alt=\"Open In Colab\"/></a>"
      ]
    },
    {
      "cell_type": "code",
      "source": [
        "import base64\n",
        "import binascii\n",
        "\n",
        "#standard prefixes - 0b for bin(), 0o for oct() and 0x for hex()"
      ],
      "metadata": {
        "id": "7_avsIu7sZFB"
      },
      "execution_count": null,
      "outputs": []
    },
    {
      "cell_type": "code",
      "execution_count": null,
      "metadata": {
        "colab": {
          "base_uri": "https://localhost:8080/"
        },
        "id": "e6zEuad0lPif",
        "outputId": "e2596d25-4398-4f94-da8b-c772bd999edc"
      },
      "outputs": [
        {
          "output_type": "stream",
          "name": "stdout",
          "text": [
            "int: 5656580133434475378123357907827\n",
            "5656580133434475378123357907827\n",
            "bytes: b'GeeksforGeeks'\n",
            "base64: b'R2Vla3Nmb3JHZWVrcw=='\n",
            "decoded: GeeksforGeeks\n",
            "string to bytes: b'GeeksforGeeks'\n",
            "bits; 1000111011001010110010101101011011100110110011001101111011100100100011101100101011001010110101101110011\n",
            "bytes from bits: b'GeeksforGeeks'\n",
            "string: GeeksforGeeks\n",
            "encoded hex_value: 4765656b73666f724765656b73\n",
            "1000111011001010110010101101011011100110110011001101111011100100100011101100101011001010110101101110011\n"
          ]
        }
      ],
      "source": [
        "hex_value = \"4765656b73666f724765656b73\"\n",
        "string = 'GeeksforGeeks'\n",
        "\n",
        "#hex to base 16\n",
        "base = 16\n",
        "result = int(hex_value, base)\n",
        "print(f\"int: {result}\")\n",
        "print(format(0x4765656b73666f724765656b73, 'd')) # alternative way to get int\n",
        "\n",
        "#hex to bytes\n",
        "bytes_value = bytes.fromhex(hex_value)\n",
        "print(f\"bytes: {bytes_value}\")\n",
        "\n",
        "#hex to base64\n",
        "base64_value = base64.b64encode(bytes_value)\n",
        "print(f\"base64: {base64_value}\")\n",
        "\n",
        "#bytes to ascii or utf-8\n",
        "decoded = bytes_value.decode('ascii')\n",
        "print(f\"decoded: {decoded}\")\n",
        "\n",
        "#string to bytes (same as getting ascii)\n",
        "string_to_bytes = bytes(string, 'utf-8')\n",
        "print(f\"string to bytes: {string_to_bytes}\") # OR string.encode('ascii')\n",
        "\n",
        "#bytes to bits\n",
        "bits = bin(int.from_bytes(bytes_value, byteorder='big'))[2:]\n",
        "print(f\"bits; {bits}\")\n",
        "\n",
        "#bits back to string, via bytes\n",
        "bytes_from_bits = int(bits, 2).to_bytes((len(bits) + 7) // 8, byteorder='big')\n",
        "print(f\"bytes from bits: {bytes_from_bits}\")\n",
        "\n",
        "string = bytes_from_bits.decode('ascii')\n",
        "print(f\"string: {string}\")\n",
        "\n",
        "#string to hex\n",
        "translated_hex = string.encode('ascii').hex()\n",
        "print(f\"encoded hex_value: {translated_hex}\")\n",
        "\n",
        "#hex to bin\n",
        "binary = bin(result)[2:]  # [2:] removes the '0b' prefix\n",
        "print(binary)\n"
      ]
    },
    {
      "cell_type": "code",
      "source": [
        "hex_qq =\"1b37373331363f78151b7f2b783431333d78397828372d363c78373e783a393b3736\"\n",
        "\n",
        "bytes_ciphertext = bytes.fromhex(hex_qq)\n",
        "\n",
        "print(bytes_ciphertext)\n",
        "print(len(bytes_ciphertext))"
      ],
      "metadata": {
        "colab": {
          "base_uri": "https://localhost:8080/"
        },
        "id": "wNRWeZ6H_hN3",
        "outputId": "89375910-5c55-4743-c1e8-7e6c98c5dd09"
      },
      "execution_count": 52,
      "outputs": [
        {
          "output_type": "stream",
          "name": "stdout",
          "text": [
            "b'\\x1b77316?x\\x15\\x1b\\x7f+x413=x9x(7-6<x7>x:9;76'\n",
            "34\n"
          ]
        }
      ]
    },
    {
      "cell_type": "code",
      "source": [
        "#conduct XOR\n",
        "def xor(key, ciphertext):\n",
        "  key_byte = bytes([key])\n",
        "  keystream = key_byte*len(ciphertext)\n",
        "  return ([x^y for (x,y) in zip(ciphertext, keystream)])\n",
        "\n",
        "#loop through all 256 iterations\n",
        "dict_all_outputs = {}\n",
        "\n",
        "for i in range(256):\n",
        "  decrypted = xor(i, bytes_ciphertext)\n",
        "  len_decrypted = len(decrypted)\n",
        "  count_is_alpha=0\n",
        "  for j in decrypted:\n",
        "    if (j >=65) and (j<=122):\n",
        "      count_is_alpha+=1\n",
        "    else:continue\n",
        "  score = count_is_alpha/len_decrypted\n",
        "  dict_all_outputs[i] = score\n",
        "\n",
        "\n",
        "print(sorted(dict_all_outputs.items(), key=lambda x: x[1], reverse=True))\n",
        "\n"
      ],
      "metadata": {
        "colab": {
          "base_uri": "https://localhost:8080/"
        },
        "id": "lXpKQlD3et67",
        "outputId": "a6a1f22c-3d65-4693-e298-8f2ebc2a73ac"
      },
      "execution_count": 2,
      "outputs": [
        {
          "output_type": "stream",
          "name": "stdout",
          "text": [
            "[(88, 0.7941176470588235), (89, 0.7941176470588235), (90, 0.7941176470588235), (92, 0.7941176470588235), (93, 0.7941176470588235), (94, 0.7941176470588235), (95, 0.7941176470588235), (97, 0.7941176470588235), (98, 0.7941176470588235), (99, 0.7941176470588235), (108, 0.7941176470588235), (111, 0.7941176470588235), (112, 0.7941176470588235), (114, 0.7941176470588235), (117, 0.7941176470588235), (120, 0.7941176470588235), (81, 0.7647058823529411), (82, 0.7647058823529411), (105, 0.7647058823529411), (106, 0.7647058823529411), (109, 0.7647058823529411), (110, 0.7647058823529411), (116, 0.7647058823529411), (122, 0.7647058823529411), (123, 0.7647058823529411), (124, 0.7647058823529411), (125, 0.7647058823529411), (126, 0.7647058823529411), (127, 0.7647058823529411), (80, 0.7352941176470589), (83, 0.7352941176470589), (84, 0.7352941176470589), (87, 0.7352941176470589), (91, 0.7352941176470589), (96, 0.7352941176470589), (100, 0.7352941176470589), (101, 0.7352941176470589), (102, 0.7352941176470589), (103, 0.7352941176470589), (104, 0.7352941176470589), (107, 0.7352941176470589), (113, 0.7352941176470589), (115, 0.7352941176470589), (121, 0.7352941176470589), (85, 0.7058823529411765), (86, 0.7058823529411765), (118, 0.7058823529411765), (67, 0.6764705882352942), (78, 0.6764705882352942), (64, 0.6470588235294118), (65, 0.6470588235294118), (68, 0.6470588235294118), (69, 0.6470588235294118), (70, 0.6470588235294118), (71, 0.6470588235294118), (79, 0.6470588235294118), (119, 0.6470588235294118), (66, 0.6176470588235294), (77, 0.5882352941176471), (73, 0.5294117647058824), (75, 0.5294117647058824), (76, 0.5294117647058824), (72, 0.47058823529411764), (74, 0.47058823529411764), (8, 0.20588235294117646), (9, 0.20588235294117646), (10, 0.20588235294117646), (11, 0.20588235294117646), (12, 0.20588235294117646), (13, 0.20588235294117646), (14, 0.20588235294117646), (15, 0.20588235294117646), (16, 0.20588235294117646), (17, 0.20588235294117646), (18, 0.20588235294117646), (19, 0.20588235294117646), (20, 0.20588235294117646), (21, 0.20588235294117646), (22, 0.20588235294117646), (23, 0.20588235294117646), (24, 0.20588235294117646), (25, 0.20588235294117646), (26, 0.20588235294117646), (27, 0.20588235294117646), (28, 0.20588235294117646), (29, 0.20588235294117646), (30, 0.20588235294117646), (31, 0.20588235294117646), (32, 0.20588235294117646), (33, 0.20588235294117646), (34, 0.20588235294117646), (35, 0.20588235294117646), (36, 0.20588235294117646), (37, 0.20588235294117646), (38, 0.20588235294117646), (39, 0.20588235294117646), (40, 0.20588235294117646), (41, 0.20588235294117646), (42, 0.20588235294117646), (43, 0.20588235294117646), (44, 0.20588235294117646), (45, 0.20588235294117646), (46, 0.20588235294117646), (47, 0.20588235294117646), (48, 0.20588235294117646), (49, 0.20588235294117646), (50, 0.20588235294117646), (51, 0.20588235294117646), (52, 0.20588235294117646), (53, 0.20588235294117646), (54, 0.20588235294117646), (55, 0.20588235294117646), (57, 0.20588235294117646), (58, 0.20588235294117646), (59, 0.20588235294117646), (60, 0.20588235294117646), (61, 0.20588235294117646), (62, 0.20588235294117646), (0, 0.17647058823529413), (1, 0.17647058823529413), (2, 0.17647058823529413), (63, 0.17647058823529413), (5, 0.029411764705882353), (6, 0.029411764705882353), (7, 0.029411764705882353), (56, 0.029411764705882353), (3, 0.0), (4, 0.0), (128, 0.0), (129, 0.0), (130, 0.0), (131, 0.0), (132, 0.0), (133, 0.0), (134, 0.0), (135, 0.0), (136, 0.0), (137, 0.0), (138, 0.0), (139, 0.0), (140, 0.0), (141, 0.0), (142, 0.0), (143, 0.0), (144, 0.0), (145, 0.0), (146, 0.0), (147, 0.0), (148, 0.0), (149, 0.0), (150, 0.0), (151, 0.0), (152, 0.0), (153, 0.0), (154, 0.0), (155, 0.0), (156, 0.0), (157, 0.0), (158, 0.0), (159, 0.0), (160, 0.0), (161, 0.0), (162, 0.0), (163, 0.0), (164, 0.0), (165, 0.0), (166, 0.0), (167, 0.0), (168, 0.0), (169, 0.0), (170, 0.0), (171, 0.0), (172, 0.0), (173, 0.0), (174, 0.0), (175, 0.0), (176, 0.0), (177, 0.0), (178, 0.0), (179, 0.0), (180, 0.0), (181, 0.0), (182, 0.0), (183, 0.0), (184, 0.0), (185, 0.0), (186, 0.0), (187, 0.0), (188, 0.0), (189, 0.0), (190, 0.0), (191, 0.0), (192, 0.0), (193, 0.0), (194, 0.0), (195, 0.0), (196, 0.0), (197, 0.0), (198, 0.0), (199, 0.0), (200, 0.0), (201, 0.0), (202, 0.0), (203, 0.0), (204, 0.0), (205, 0.0), (206, 0.0), (207, 0.0), (208, 0.0), (209, 0.0), (210, 0.0), (211, 0.0), (212, 0.0), (213, 0.0), (214, 0.0), (215, 0.0), (216, 0.0), (217, 0.0), (218, 0.0), (219, 0.0), (220, 0.0), (221, 0.0), (222, 0.0), (223, 0.0), (224, 0.0), (225, 0.0), (226, 0.0), (227, 0.0), (228, 0.0), (229, 0.0), (230, 0.0), (231, 0.0), (232, 0.0), (233, 0.0), (234, 0.0), (235, 0.0), (236, 0.0), (237, 0.0), (238, 0.0), (239, 0.0), (240, 0.0), (241, 0.0), (242, 0.0), (243, 0.0), (244, 0.0), (245, 0.0), (246, 0.0), (247, 0.0), (248, 0.0), (249, 0.0), (250, 0.0), (251, 0.0), (252, 0.0), (253, 0.0), (254, 0.0), (255, 0.0)]\n"
          ]
        }
      ]
    },
    {
      "cell_type": "code",
      "source": [
        "!pip install nltk"
      ],
      "metadata": {
        "colab": {
          "base_uri": "https://localhost:8080/"
        },
        "id": "DAIRnXzxN3Ao",
        "outputId": "0f8a044d-4ccf-47a5-89bb-e9f564ff47c7"
      },
      "execution_count": 3,
      "outputs": [
        {
          "output_type": "stream",
          "name": "stdout",
          "text": [
            "Requirement already satisfied: nltk in /usr/local/lib/python3.10/dist-packages (3.8.1)\n",
            "Requirement already satisfied: click in /usr/local/lib/python3.10/dist-packages (from nltk) (8.1.7)\n",
            "Requirement already satisfied: joblib in /usr/local/lib/python3.10/dist-packages (from nltk) (1.4.2)\n",
            "Requirement already satisfied: regex>=2021.8.3 in /usr/local/lib/python3.10/dist-packages (from nltk) (2024.5.15)\n",
            "Requirement already satisfied: tqdm in /usr/local/lib/python3.10/dist-packages (from nltk) (4.66.4)\n"
          ]
        }
      ]
    },
    {
      "cell_type": "code",
      "source": [
        "import nltk\n",
        "from nltk.corpus import wordnet\n",
        "\n",
        "nltk.download('wordnet')  # Download WordNet data (only needed once)"
      ],
      "metadata": {
        "colab": {
          "base_uri": "https://localhost:8080/"
        },
        "id": "NqfQIq7lN6RJ",
        "outputId": "d46069cf-f753-4beb-bc7b-03cd276c6c0d"
      },
      "execution_count": 4,
      "outputs": [
        {
          "output_type": "stream",
          "name": "stderr",
          "text": [
            "[nltk_data] Downloading package wordnet to /root/nltk_data...\n"
          ]
        },
        {
          "output_type": "execute_result",
          "data": {
            "text/plain": [
              "True"
            ]
          },
          "metadata": {},
          "execution_count": 4
        }
      ]
    },
    {
      "cell_type": "code",
      "source": [
        "\n",
        "dict_above_7 = {key: value for key, value in dict_all_outputs.items() if value >= 0.7}\n",
        "\n",
        "def check_if_readable_text(text):\n",
        "    synset = wordnet.synsets(text)\n",
        "    if len(synset) == 0:\n",
        "      return False\n",
        "    else:\n",
        "      return True\n",
        "\n",
        "#print(check_if_readable_text(bytes([88])))\n",
        "#print(check_if_readable_text(bytes(\"lol\",\"ascii\").decode(\"ascii\")))\n",
        "\n",
        "hex_qq =\"1b37373331363f78151b7f2b783431333d78397828372d363c78373e783a393b3736\"\n",
        "\n",
        "bytes_ciphertext = bytes.fromhex(hex_qq)\n",
        "\n",
        "key_percentTrue = {}\n",
        "\n",
        "for key, value in dict_above_7.items():\n",
        "  letter = bytes([key]).decode(\"ascii\")\n",
        "  phrase = bytes(xor(key,bytes_ciphertext)).decode(\"ascii\").split()\n",
        "  if len(phrase)==1:continue\n",
        "  else:\n",
        "    list_readability = [check_if_readable_text(w) for w in phrase]\n",
        "    percent_True = list_readability.count(True)/len(phrase)\n",
        "    key_percentTrue[key] = percent_True\n",
        "\n",
        "max_percentTrue =max(key_percentTrue.values())\n",
        "\n",
        "answer = [key for key in key_percentTrue if key_percentTrue[key] == max_percentTrue][0]\n",
        "\n",
        "print(bytes([answer]).decode(\"ascii\"))\n",
        "print(bytes(xor(answer,bytes_ciphertext)).decode(\"ascii\"))"
      ],
      "metadata": {
        "colab": {
          "base_uri": "https://localhost:8080/"
        },
        "id": "EN7Cd3dQWtxR",
        "outputId": "9796809e-e971-4c57-e4b5-e4f958d4c5e3"
      },
      "execution_count": 53,
      "outputs": [
        {
          "output_type": "stream",
          "name": "stdout",
          "text": [
            "X\n",
            "Cooking MC's like a pound of bacon\n"
          ]
        }
      ]
    }
  ]
}