{
  "nbformat": 4,
  "nbformat_minor": 0,
  "metadata": {
    "colab": {
      "provenance": [],
      "authorship_tag": "ABX9TyNc/QjjiCN2eHfbgstnHSYb"
    },
    "kernelspec": {
      "name": "python3",
      "display_name": "Python 3"
    },
    "language_info": {
      "name": "python"
    }
  },
  "cells": [
    {
      "cell_type": "code",
      "source": [
        "#answer for https://cryptopals.com/sets/1/challenges/4",
        "import requests"
      ],
      "metadata": {
        "id": "69mI3GXcyxUD"
      },
      "execution_count": 110,
      "outputs": []
    },
    {
      "cell_type": "code",
      "source": [
        "!pip install nltk"
      ],
      "metadata": {
        "colab": {
          "base_uri": "https://localhost:8080/"
        },
        "id": "Ic6uxa1Z_H9F",
        "outputId": "51472fe3-7258-4120-9cf0-060199da3be6"
      },
      "execution_count": 95,
      "outputs": [
        {
          "output_type": "stream",
          "name": "stdout",
          "text": [
            "Requirement already satisfied: nltk in /usr/local/lib/python3.10/dist-packages (3.8.1)\n",
            "Requirement already satisfied: click in /usr/local/lib/python3.10/dist-packages (from nltk) (8.1.7)\n",
            "Requirement already satisfied: joblib in /usr/local/lib/python3.10/dist-packages (from nltk) (1.4.2)\n",
            "Requirement already satisfied: regex>=2021.8.3 in /usr/local/lib/python3.10/dist-packages (from nltk) (2024.5.15)\n",
            "Requirement already satisfied: tqdm in /usr/local/lib/python3.10/dist-packages (from nltk) (4.66.4)\n"
          ]
        }
      ]
    },
    {
      "cell_type": "code",
      "source": [
        "import nltk\n",
        "from nltk.corpus import wordnet\n",
        "\n",
        "nltk.download('wordnet')  # Download WordNet data (only needed once)"
      ],
      "metadata": {
        "colab": {
          "base_uri": "https://localhost:8080/"
        },
        "id": "oEGwjcu__LuJ",
        "outputId": "ec66ef04-c37f-4fa5-98e7-7518931f7f57"
      },
      "execution_count": 96,
      "outputs": [
        {
          "output_type": "stream",
          "name": "stderr",
          "text": [
            "[nltk_data] Downloading package wordnet to /root/nltk_data...\n"
          ]
        },
        {
          "output_type": "execute_result",
          "data": {
            "text/plain": [
              "True"
            ]
          },
          "metadata": {},
          "execution_count": 96
        }
      ]
    },
    {
      "cell_type": "code",
      "execution_count": 65,
      "metadata": {
        "id": "JY9drBueyprj"
      },
      "outputs": [],
      "source": [
        "url = \"https://cryptopals.com/static/challenge-data/4.txt\"\n",
        "response = requests.get(url)\n",
        "list_question = response.content.decode(\"ascii\").splitlines()\n"
      ]
    },
    {
      "cell_type": "code",
      "source": [
        "#conduct XOR\n",
        "def xor(key, ciphertext):\n",
        "  key = bytes([key])\n",
        "  ciphertext_inbytes = bytes.fromhex(ciphertext)\n",
        "  keystream = key*len(ciphertext_inbytes)\n",
        "  return [a^b for a,b in zip(ciphertext_inbytes, keystream)]"
      ],
      "metadata": {
        "id": "9M0KuiawBbdr"
      },
      "execution_count": 125,
      "outputs": []
    },
    {
      "cell_type": "code",
      "source": [
        "def check_if_readable_text(text):\n",
        "    synset = wordnet.synsets(text)\n",
        "    if len(synset) == 0:\n",
        "      return False\n",
        "    else:\n",
        "      return True"
      ],
      "metadata": {
        "id": "HRL75PYe_S4I"
      },
      "execution_count": 97,
      "outputs": []
    },
    {
      "cell_type": "code",
      "source": [
        "dict_of_possibilities = {}\n",
        "\n",
        "for i in range(256):\n",
        "  for row in list_question:\n",
        "    decoded = xor(i, row)\n",
        "    alpha_count = sum(1 for char in decoded if chr(char).isalpha())\n",
        "    alpha_percent = alpha_count / len(decoded)\n",
        "    if alpha_percent > 0.7:\n",
        "      decoded_char = [chr(d) for d in decoded]\n",
        "      decipher = ''.join(decoded_char)\n",
        "      list_decipher = decipher.split()\n",
        "      if len(list_decipher)==1:continue\n",
        "      else:\n",
        "        list_decipher_readability = [check_if_readable_text(l) for l in list_decipher].count(True)\n",
        "        readability_percent = list_decipher_readability / len(list_decipher)\n",
        "        if readability_percent <= 0.5: continue\n",
        "        else:\n",
        "          dict_of_possibilities[row] = decipher\n",
        "\n",
        "print(dict_of_possibilities)"
      ],
      "metadata": {
        "colab": {
          "base_uri": "https://localhost:8080/"
        },
        "id": "aEZDIco9cLFO",
        "outputId": "2bb73122-4b39-4cbb-8b1b-3acb3c6c49b9"
      },
      "execution_count": 153,
      "outputs": [
        {
          "output_type": "stream",
          "name": "stdout",
          "text": [
            "{'7b5a4215415d544115415d5015455447414c155c46155f4058455c5b523f': 'Now that the party is jumping\\n'}\n"
          ]
        }
      ]
    }
  ]
}
