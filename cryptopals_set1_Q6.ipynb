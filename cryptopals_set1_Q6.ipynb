{
  "nbformat": 4,
  "nbformat_minor": 0,
  "metadata": {
    "kernelspec": {
      "name": "python3",
      "display_name": "Python 3"
    },
    "language_info": {
      "name": "python"
    }
  },
  "cells": [
    {
      "cell_type": "markdown",
      "metadata": {
        "id": "view-in-github",
        "colab_type": "text"
      },
      "source": [
        "<a href=\"https://colab.research.google.com/github/MjunMJ/python_playground/blob/cryptopals.com-challenges/cryptopals_set1_Q6.ipynb\" target=\"_parent\"><img src=\"https://colab.research.google.com/assets/colab-badge.svg\" alt=\"Open In Colab\"/></a>"
      ]
    },
    {
      "cell_type": "markdown",
      "source": [
        "I took inspiration from [here](https://dev.to/wrongbyte/cryptography-basics-breaking-repeated-key-xor-ciphertext-1fm2), and [here](https://www.southampton.ac.uk/~wright/1001/index-of-coincidence.html) to figure out the method for question 6. Here is my reasoning, please leave a comment or DM me if there's something wrong with it as I am a noob in cryptography.\n",
        "\n",
        "To get multi character XOR decipher, we need to guess the key length, and then we can use some kind of brute force method to get the key.\n",
        "\n",
        "**Readable vs random line of words**\n",
        "\n",
        "Based on articles I've read above, and other helpful online content, we need to understand the differences between a readable sentence, and one made up of random characters:\n",
        "\n",
        "*   Letter frequency: A readable sentence is likely to have letters that occur at a known frequency, based on frequency data such as that [here](https://pi.math.cornell.edu/~mec/2003-2004/cryptography/subs/frequencies.html), where some letters are more likely to occur than others. A randomly constructed sentence however, has each character randomly picked, so each character has equal chance of appearing.\n",
        "*   Hamming distance: Similar to the above, the hamming distance of a different parts of a readable sentence *should* be less than that of a randomly generated sentence. It doesn't seem to always happen in my random trials, and also as this blogger shares [here](https://trustedsignal.blogspot.com/2015/06/xord-play-normalized-hamming-distance.html), but it's a signal nonetheless. E.g. we have two strings, one legible, the other plain nonsense:\n",
        "\n",
        "\n",
        "```\n",
        "#hamming distance for every n bytes of a string\n",
        "\n",
        "from itertools import combinations\n",
        "\n",
        "def hamming_every_n_bytes (string,n):\n",
        "  total=0\n",
        "  count=0\n",
        "  parts = [string[i:i+n] for i in range(0, len(string), n)]\n",
        "  combo =combinations(parts,2)\n",
        "  for part1, part2 in combo:\n",
        "    xor=bytes([a ^ b for a, b in zip(bytes(part1, \"ascii\"), bytes(part2, \"ascii\"))])\n",
        "    return sum(bin(byte).count('1') for byte in xor)/n\n",
        "\n",
        "print(hamming_every_n_bytes(\"cats and dogs make great pets. please take care of them\", 5)) #=2.4\n",
        "print(hamming_every_n_bytes(\"ye93ocjexzmqs&sivabi0skw[df8]u58nslfvkuyuujdsfuefusoeqm\", 5)) #=3.6\n",
        "```\n",
        "\n",
        "**Guessing the key length**\n",
        "\n",
        "OK so the article suggest we use Hamming distance to guess the key length. Above, we guess this value is small when text is readable, but ciphertext is never readable. So how is hamming distance gonna help? I puzzled over this, and finally supposed this was the reasoning:\n",
        "* Since the text was encoded with XOR, the hamming distance of the ciphertext is same as that of text. Here's why:\n",
        "\n",
        "```\n",
        "text = 11001100 01001001 (hamming =3)\n",
        "key  = 00001001 00001001\n",
        "xor  = 11000101 01000000 (hamming =3)\n",
        "```\n",
        "\n",
        "XOR swtiches a 0 to 1, and vice versa. So if you switch two sets of bits with the same XOR, the differences in the number of 1s remains unchanged."
      ],
      "metadata": {
        "id": "mVQCmGpvyQ3M"
      }
    },
    {
      "cell_type": "code",
      "source": [
        "#Get started by getting the cipher text\n",
        "\n",
        "import base64\n",
        "from itertools import combinations\n",
        "import requests\n",
        "\n",
        "url = \"https://cryptopals.com/static/challenge-data/6.txt\"\n",
        "\n",
        "response = requests.get(url)\n",
        "data = response.text\n",
        "data_bytes = base64.b64decode(data)\n"
      ],
      "metadata": {
        "id": "FawQpMRMyzw1"
      },
      "execution_count": 3,
      "outputs": []
    },
    {
      "cell_type": "code",
      "source": [
        "#get possible key sizes now by finding the shorter hamming distances\n",
        "#get hamming distance for one keysize\n",
        "def hamming_every_n_bytes (string,n):\n",
        "  total=0\n",
        "  count=0\n",
        "  parts = [string[i:i+n] for i in range(0, len(string), n)]\n",
        "  combo =combinations(parts,2)\n",
        "  for part1, part2 in combo:\n",
        "    xor=bytes([a ^ b for a, b in zip(bytes(part1, \"ascii\"), bytes(part2, \"ascii\"))])\n",
        "    return sum(bin(byte).count('1') for byte in xor)/n\n",
        "\n",
        "dict_keysizes_hd ={}\n",
        "\n",
        "#get hamming distance for many keysizes, narrow down to top 10\n",
        "for k in range(2,40):\n",
        "  dict_keysizes_hd[k] = hamming_every_n_bytes(data,k)\n",
        "\n",
        "dict_top_10=sorted(dict_keysizes_hd.items(),key=lambda x:x[1])[0:9]"
      ],
      "metadata": {
        "id": "5bKuW2Xcw_YX"
      },
      "execution_count": 4,
      "outputs": []
    },
    {
      "cell_type": "markdown",
      "source": [
        "**Guessing the key**\n",
        "\n",
        "After narrowing down to the top 10 keysizes based on hamming distance, we need to test the key, going through 256 potential byte for each one. So if the keysize I want to check is 10, there are 256 to the power of 10 possibilities. OMG\n",
        "\n",
        "Cryptopals suggests that we \"transpose the blocks: make a block that is the first byte of every block, and a block that is the second byte of every block, and so on.\" For each block, the nth letter is compared with the nth letter of our key. So if for each nth letter of our key, we can single XOR with all the nth letter of all the blocks, we can derive the key."
      ],
      "metadata": {
        "id": "KFdP40BiOai-"
      }
    },
    {
      "cell_type": "code",
      "source": [
        "#break the ciphertext into blocks of length=keysize and transpose every n part with key in n position\n",
        "from itertools import zip_longest\n",
        "\n",
        "def transpose_blocks(ciphertext, keysize):\n",
        "  blocks = [ciphertext[i:i+keysize] for i in range(0, len(ciphertext), keysize)]\n",
        "  zipped = [list(filter(None,i)) for i in zip_longest(*blocks)]\n",
        "  key=[]\n",
        "  for z in zipped:\n",
        "    character=xor_decipher_unknown_key(z)\n",
        "    key.append(character)\n",
        "  return (''.join(k for k in key))\n",
        "\n",
        "#now go through each key in dict_top_10 to find the most human readable key.\n",
        "#I think we are assuming the key is also human readable.\n",
        "all_possible_keys = []\n",
        "\n",
        "for d in dict_top_10:\n",
        "  keysize_to_test = d[0]\n",
        "  possible_key = bytes(transpose_blocks(data_bytes, keysize_to_test),\"ascii\")\n",
        "  if possible_key is not None:\n",
        "    all_possible_keys.append(possible_key)"
      ],
      "metadata": {
        "id": "IskUFhdVSjDz"
      },
      "execution_count": 6,
      "outputs": []
    },
    {
      "cell_type": "code",
      "source": [
        "#let's apply mult-character XOR now to data_bytes using all_possible_keys.\n",
        "#we then count letter frequency to guess the key\n",
        "\n",
        "letters_to_count = ['e','t','a','o','i','n','s','h','r','d','l','u','c']\n",
        "max_count=0\n",
        "\n",
        "for key in all_possible_keys:\n",
        "  count_for_key=0\n",
        "  decipher_text=multi_xor_known_key(data_bytes, key).decode(\"utf-8\")\n",
        "  for w in decipher_text:\n",
        "    if w in letters_to_count: count_for_key+=1\n",
        "  if count_for_key>max_count:\n",
        "    max_count=count_for_key\n",
        "    best_key=key\n",
        "\n",
        "print(best_key)\n",
        "\n",
        "#decipher data with best_key\n",
        "print(multi_xor_known_key(data_bytes, best_key).decode(\"utf-8\"))\n"
      ],
      "metadata": {
        "colab": {
          "base_uri": "https://localhost:8080/"
        },
        "id": "W0PB2D7iz_uP",
        "outputId": "a0ab88cf-45dd-4086-f09d-7609d7706eed"
      },
      "execution_count": 8,
      "outputs": [
        {
          "output_type": "stream",
          "name": "stdout",
          "text": [
            "b'TERMINATOR\\x00X\\x1a\\x00BRING\\x00THE\\x00NOISE'\n",
            "I\u0007M\u0000BACK\u0000ANd\u0000i'M\u0000RINGIN\u0007\u0000THE\u0000bELL\u0000*a\u0000ROCkIN'\u0000ON\u0000THE\u0000MIKE\u0000WhILE\u0000THE\u0000FLy\u0000GiRLS\u0000YELL\u0000*iN\u0000EcSTASY\u0000IN\u0000ThE\u0000bACK\u0000OF\u0000ME\u0000*wELl\u0000THAT\u0007S\u0000MY dj dESHAY\u0000CUTTIN\u0007 ALL\u0000THEM\u0000z'S\u0000\n",
            "hITTIN\u0007\u0000HARD\u0000AnD\u0000THE\u0000GIRLiES GOIN\u0007\u0000CRAZY\u0000*vaNILLA\u0007S\u0000ON THe\u0000MIKE\f\u0000MAN\u0000i\u0007M NOT\u0000LAZY\u000e\u0000\n",
            "*i'M\u0000LETTIN\u0007\u0000MY\u0000DrUG\u0000KICK\u0000IN *it\u0000CONTROLS\u0000MY\u0000MoUTH\u0000AND\u0000i\u0000bEGiN\u0000*tO\u0000JUST\u0000LET IT\u0000FLOW\f\u0000LeT\u0000mY\u0000CONCEPTS\u0000GO\u0000\n",
            "mY\u0000POSSE\u0007S TO THE\u0000SIDE\u0000YELLIn\u0007\f\u0000gO\u0000vANIlLA gO\u0001\u0000**sMOOTH\u0000\u0007cAUSE\u0000THAT\u0007s\u0000ThE\u0000WAY\u0000i\u0000WILL\u0000Be\u0000*aND\u0000IF\u0000YoU\u0000dON\u0007T\u0000GIVE\u0000A\u0000DAmN\f\u0000THEN\u0000*whY\u0000yOU\u0000STARIN\u0007\u0000AT\u0000mE\u0000*sO\u0000GET\u0000oFF \u0007CAUSE\u0000i\u0000CONTRoL\u0000THE\u0000STAGe\u0000*THERE\u0007S\u0000NO\u0000DISSiN\u0007\u0000ALLOWED *i'M\u0000IN\u0000MY\u0000OWN\u0000PHaSE\u0000*tHE\u0000GIrLIeS\u0000SA\u0000Y\u0000THEY\u0000LOvE\u0000ME\u0000AND\u0000ThAT IS\u0000OK\u0000*aND\u0000i\u0000CaN\u0000DANCE\u0000BEtTEr\u0000THAN\u0000ANY\u0000KID\u0000n\u0007\u0000PLAY\u0000**stAGe\u0000\u0012\u0000\r\r\u0000yEA\u0000THE\u0000oNE\u0000YA\u0007\u0000WANnA\u0000lISTEN\u0000TO\u0000*iT\u0007S OFF\u0000MY\u0000HEAd\u0000So\u0000LET\u0000THE\u0000BEAT\u0000pLAY\u0000THROUGh\u0000*SO\u0000i\u0000CAN\u0000FUNK\u0000It\u0000UP\u0000AND\u0000MAkE\u0000iT\u0000SOUND\u0000GOOD\u0000*1\r\u0012\r\u0013\u0000yO\u0000\r\r kNoCK\u0000ON\u0000SOME\u0000WOOd\u0000*fOR\u0000GOOD LUcK\f\u0000i\u0000LIKE\u0000MY\u0000RhYMES\u0000ATROCiOUs\u0000*sUPERCALAFRAgILISTICEXPiALiDOCIOUS\u0000*i\u0007M\u0000An\u0000EFFECT\u0000ANd\u0000ThAT\u0000YOU\u0000CAN\u0000BET *i\u0000CAN\u0000TAKe\u0000A FLY\u0000GIRL\u0000AND\u0000MaKE\u0000HER\u0000WET.\u0000*\n",
            "i\u0007M\u0000LIKE\u0000sAMSOn\u0000\r\r\u0000sAMSON TO dELILAH\u0000*tHERE'S\u0000NO\u0000DENYIn\u0007\f yOU\u0000CAN\u0000TRY\u0000TO HANG\u0000*bUT\u0000yOU'LL\u0000KEEP\u0000TRYIN\u0007 TO\u0000GET\u0000MY\u0000sTYlE\u0000*oVER\u0000AND\u0000OVeR\f\u0000PRACTICe\u0000MaKES\u0000PERFECT\u0000*buT\u0000NOT\u0000IF\u0000YoU\u0007rE\u0000A\u0000LOAFER\u000e\u0000**YOU\u0007LL\u0000GET\u0000nOWhERE\f\u0000NO\u0000PLACE\f NO\u0000TIME\f\u0000No\u0000GiRLS\u0000*sOON\u0000\r\r\u0000oh\u0000MY\u0000gOD\f\u0000HoMEbODY\f\u0000YOU\u0000PROBAbLY\u0000EAT\u0000*sPaGHeTTI\u0000WITH\u0000A\u0000SPOoN\u0001\u0000cOME\u0000ON ANd\u0000SAY\u0000IT\u0001\u0000**vip.\u0000vANILLA\u0000icE\u0000yEP\f\u0000YEP\f\u0000i\u0007M\u0000CoMIN\u0007\u0000HARD\u0000lIKe\u0000A\u0000RHINO\u0000*iNTOxICATING\u0000SO YOu\u0000STAGGER\u0000LIKE\u0000a\u0000WINO\u0000*sO\u0000pUNkS\u0000STOP\u0000TRYING\u0000aND\u0000GIRL\u0000SToP\u0000cRYIN\u0007\u0000*vANILLA iCE\u0000IS\u0000SELlIN'\u0000AND\u0000YOU\u0000PEOPLe\u0000ARE\u0000BUYIN'\u0000*'cAUSE\u0000WHY\u0000THE\u0000fREAKS\u0000ARE\u0000jOCkIN\u0007\u0000LIKE\u0000cRAZY gLUE\u0000*mOVIn\u0007\u0000aND\u0000GROOVIN\u0007\u0000TRyING\u0000TO\u0000SINg\u0000AlONG\u0000*aLL\u0000THROUgH\u0000THE\u0000GHETtO\u0000gROOVIN\u0007\u0000THIS\u0000HeRE\u0000SONG\u0000*noW\u0000yOU\u0007RE\u0000AMAZED\u0000By\u0000THE\u0000vip\u0000PoSSe\u000e\u0000**sTEPPIN\u0007\u0000So\u0000HARD\u0000LIKE A\u0000GERMAN\u0000nAZI\u0000*sTaRTLED\u0000BY\u0000ThE\u0000bASES\u0000HITTIN\u0007\u0000GrOUND\u0000*tHERe\u0007S NO\u0000TRIPPIN\u0007\u0000ON MINE\f\u0000i\u0007M\u0000jUSt\u0000GETTIN\u0007\u0000DOWN\u0000\n",
            "sPARKAMATIc\f\u0000I\u0007M\u0000HANGIN\u0007\u0000TIGhT\u0000LIKE\u0000A\u0000FaNAtIC\u0000*yOU\u0000TRAPPEd\u0000ME\u0000ONCE\u0000AnD\u0000I\u0000THOUGHT\u0000THAT\u0000\n",
            "yOU\u0000MIGHT\u0000hAVe\u0000IT\u0000*sO\u0000STEP\u0000DoWN\u0000AND\u0000LENd\u0000Me\u0000YOUR\u0000EAR\u0000*\u0007\u0018\u0019 IN\u0000MY\u0000TIME!\u0000yoU\f\u0000\u0007\u0019\u0010\u0000IS\u0000MY\u0000YeAR\u000e\u0000**yOU\u0007rE\u0000wEAKENIN\u0007\u0000FAST\f yo\u0001\u0000AND\u0000i\u0000cAN TELL\u0000IT\u0000*yOUR\u0000bODY\u0007S\u0000GETTiN\u0007 HOT\f\u0000SO\f\u0000SO\u0000i\u0000cAN\u0000SMELL\u0000It\u0000*SO\u0000DON\u0007T\u0000BE\u0000MAD AND\u0000DON\u0007T\u0000bE\u0000sAD\u0000*\u0007cAUSE\u0000THE LYRICS\u0000BELoNG TO\u0000ice\f\u0000yOU\u0000CAn\u0000CALL\u0000ME\u0000daD\u0000\n",
            "yOU\u0007RE\u0000PITCHIN'\u0000A\u0000FIT\f\u0000SO STeP\u0000BACK\u0000AND\u0000ENDuRE\u0000*lET\u0000THe\u0000WiTCH\u0000DOCTOR\f\u0000iCe\f\u0000DO\u0000THE\u0000DaNCe\u0000TO\u0000CURE\u0000*sO\u0000CoME\u0000UP\u0000CLOSe\u0000AnD\u0000DON\u0007T\u0000BE\u0000SQUaRE\u0000*yOU\u0000WAnNA BATTLE\u0000ME\u0000\r\r\u0000anYTIME\f\u0000ANYwHErE\u0000**yOU\u0000THOUGHt\u0000THAT\u0000i\u0000WAs\u0000WeAK\f\u0000bOY\f\u0000YOU\u0007Re\u0000DEAD\u0000WRONg\u0000*SO\u0000COME\u0000ON\f\u0000EVErYBODY\u0000AND\u0000sINg\u0000THIS\u0000SONG\u0000**saY\u0000\r\r\u0000pLAY\u0000tHAt\u0000FUNKY\u0000MUSIC\u0000saY\f\u0000GO\u0000WHITe\u0000BoY\f\u0000GO\u0000WHITE\u0000BOy\u0000GO\u0000*PLAY\u0000tHAt\u0000FUNKY\u0000MUSIC\u0000go\u0000WHITE\u0000BOY,\u0000Go\u0000WHITE\u0000BOY\f\u0000GO *lAY\u0000DOWN\u0000aND BOOGIE\u0000AND\u0000PLAy\u0000THAT\u0000FUNKy\u0000MuSIC\u0000TILL\u0000YOU\u0000DiE\u000e\u0000**pLAY\u0000tHAt\u0000FUNKY\u0000MUSIC\u0000coME\u0000ON\f\u0000cOMe\u0000On\f\u0000LET\u0000ME\u0000HEAR\u0000\n",
            "pLAY\u0000THAT\u0000fUNkY\u0000MUSIC\u0000WHITE\u0000bOY\u0000YOU\u0000SAY IT,\u0000SAY\u0000IT\u0000*pLAY\u0000tHAT\u0000FUNKY\u0000mUSiC\u0000a\u0000LITTLE\u0000LOUdER\u0000NOW\u0000*pLaY\u0000tHAT\u0000FUNKY\u0000MUSIc\f\u0000WHITE\u0000BOy\u0000coME\u0000ON\f\u0000cOME\u0000ON,\u0000cOME\u0000ON\u0000*PLAy\u0000THAT\u0000FUNKY\u0000MUsIC\u0000*\n"
          ]
        }
      ]
    }
  ]
}
